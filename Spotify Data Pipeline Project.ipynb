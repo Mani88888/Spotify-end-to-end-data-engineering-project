{
 "cells": [
  {
   "cell_type": "code",
   "execution_count": 1,
   "id": "6b99d80f-12bb-416c-af4a-04f36b9de3e5",
   "metadata": {},
   "outputs": [
    {
     "name": "stdout",
     "output_type": "stream",
     "text": [
      "Requirement already satisfied: spotipy in c:\\users\\manip\\appdata\\local\\programs\\python\\python310\\lib\\site-packages (2.25.0)Note: you may need to restart the kernel to use updated packages.\n",
      "\n",
      "Requirement already satisfied: redis>=3.5.3 in c:\\users\\manip\\appdata\\local\\programs\\python\\python310\\lib\\site-packages (from spotipy) (5.2.1)\n",
      "Requirement already satisfied: urllib3>=1.26.0 in c:\\users\\manip\\appdata\\local\\programs\\python\\python310\\lib\\site-packages (from spotipy) (2.3.0)\n",
      "Requirement already satisfied: requests>=2.25.0 in c:\\users\\manip\\appdata\\local\\programs\\python\\python310\\lib\\site-packages (from spotipy) (2.32.3)\n",
      "Requirement already satisfied: async-timeout>=4.0.3 in c:\\users\\manip\\appdata\\local\\programs\\python\\python310\\lib\\site-packages (from redis>=3.5.3->spotipy) (5.0.1)\n",
      "Requirement already satisfied: certifi>=2017.4.17 in c:\\users\\manip\\appdata\\local\\programs\\python\\python310\\lib\\site-packages (from requests>=2.25.0->spotipy) (2024.12.14)\n",
      "Requirement already satisfied: charset-normalizer<4,>=2 in c:\\users\\manip\\appdata\\local\\programs\\python\\python310\\lib\\site-packages (from requests>=2.25.0->spotipy) (3.4.1)\n",
      "Requirement already satisfied: idna<4,>=2.5 in c:\\users\\manip\\appdata\\local\\programs\\python\\python310\\lib\\site-packages (from requests>=2.25.0->spotipy) (3.10)\n"
     ]
    },
    {
     "name": "stderr",
     "output_type": "stream",
     "text": [
      "\n",
      "[notice] A new release of pip available: 22.3.1 -> 25.0.1\n",
      "[notice] To update, run: python.exe -m pip install --upgrade pip\n"
     ]
    }
   ],
   "source": [
    "pip install spotipy"
   ]
  },
  {
   "cell_type": "code",
   "execution_count": 2,
   "id": "a8e85456-02d3-4d60-913c-37c3a6dbb213",
   "metadata": {},
   "outputs": [],
   "source": [
    "import spotipy\n",
    "from spotipy.oauth2 import SpotifyClientCredentials\n",
    "import pandas as pd"
   ]
  },
  {
   "cell_type": "code",
   "execution_count": 3,
   "id": "f3690663-6722-41d9-9406-36a0f1b5a4c4",
   "metadata": {},
   "outputs": [],
   "source": [
    "#add your keys here\n",
    "client_credentials_manager = SpotifyClientCredentials(client_id=\"f89c48654dd04e9b983204b0af94e290\", client_secret=\"f5b7e01a7d454e0caa366f7dd50316bb\")"
   ]
  },
  {
   "cell_type": "code",
   "execution_count": 4,
   "id": "e9e1f4ef-4dab-430d-90b2-d045d998e17e",
   "metadata": {},
   "outputs": [],
   "source": [
    "sp = spotipy.Spotify(client_credentials_manager = client_credentials_manager)"
   ]
  },
  {
   "cell_type": "code",
   "execution_count": 48,
   "id": "8c1e5655-25a3-4934-9518-f0d8fc823ea1",
   "metadata": {},
   "outputs": [],
   "source": [
    "playlist_link= \"https://open.spotify.com/playlist/6VOedaf3eNWDOVpa9Qdlvg\""
   ]
  },
  {
   "cell_type": "code",
   "execution_count": 60,
   "id": "b6ca89ab-5ab3-46cc-b49e-749bf47b9db6",
   "metadata": {},
   "outputs": [],
   "source": [
    "playlist_URI = playlist_link.split(\"/\")[-1]"
   ]
  },
  {
   "cell_type": "code",
   "execution_count": 61,
   "id": "98720f22-1013-4a7a-8ed8-96c95b986782",
   "metadata": {},
   "outputs": [
    {
     "data": {
      "text/plain": [
       "'6VOedaf3eNWDOVpa9Qdlvg'"
      ]
     },
     "execution_count": 61,
     "metadata": {},
     "output_type": "execute_result"
    }
   ],
   "source": [
    "playlist_URI"
   ]
  },
  {
   "cell_type": "code",
   "execution_count": 21,
   "id": "5124d405-c368-4f43-bdfd-a0852d0073d8",
   "metadata": {},
   "outputs": [],
   "source": [
    "data = sp.playlist_tracks(playlist_URI)"
   ]
  },
  {
   "cell_type": "code",
   "execution_count": 23,
   "id": "8f055cd1-5fcd-4277-b68b-6665dae689c1",
   "metadata": {},
   "outputs": [],
   "source": [
    "artist_list = []\n",
    "for row in data['items']:\n",
    "    for key, value in row.items():\n",
    "        if key == \"track\":\n",
    "            for artist in value['artists']:\n",
    "                artist_dict = {'artist_id':artist['id'], 'artist_name':artist['name'], 'external_url': artist['href']}\n",
    "                artist_list.append(artist_dict)"
   ]
  },
  {
   "cell_type": "code",
   "execution_count": 30,
   "id": "ca6305b2-8a54-4016-891b-ee18a4b053cb",
   "metadata": {},
   "outputs": [],
   "source": [
    "song_list = []\n",
    "for row in data['items']:\n",
    "    song_id = row['track']['id']\n",
    "    song_name = row['track']['name']\n",
    "    song_duration = row['track']['duration_ms']\n",
    "    song_url = row['track']['external_urls']['spotify']\n",
    "    song_popularity = row['track']['popularity']\n",
    "    song_added = row['added_at']\n",
    "    album_id = row['track']['album']['id']\n",
    "    artist_id = row['track']['album']['artists'][0]['id']\n",
    "    song_element = {'song_id':song_id,'song_name':song_name,'duration_ms':song_duration,'url':song_url,\n",
    "                    'popularity':song_popularity,'song_added':song_added,'album_id':album_id,\n",
    "                    'artist_id':artist_id\n",
    "                   }\n",
    "    song_list.append(song_element)"
   ]
  },
  {
   "cell_type": "code",
   "execution_count": 32,
   "id": "2f17d150-8112-4bde-8879-c3e708293a4d",
   "metadata": {},
   "outputs": [],
   "source": [
    "artist_list = []\n",
    "for row in data['items']:\n",
    "    for key, value in row.items():\n",
    "        if key == \"track\":\n",
    "            for artist in value['artists']:\n",
    "                artist_dict = {'artist_id':artist['id'], 'artist_name':artist['name'], 'external_url': artist['href']}\n",
    "                artist_list.append(artist_dict)"
   ]
  },
  {
   "cell_type": "code",
   "execution_count": 33,
   "id": "94a3df5b-a363-4b44-b973-88b9e74935b8",
   "metadata": {},
   "outputs": [],
   "source": [
    "album_list = []\n",
    "for row in data['items']:\n",
    "    album_id = row['track']['album']['id']\n",
    "    album_name = row['track']['album']['name']\n",
    "    album_release_date = row['track']['album']['release_date']\n",
    "    album_total_tracks = row['track']['album']['total_tracks']\n",
    "    album_url = row['track']['album']['external_urls']['spotify']\n",
    "    album_element = {'album_id':album_id,'name':album_name,'release_date':album_release_date,\n",
    "                        'total_tracks':album_total_tracks,'url':album_url}\n",
    "    album_list.append(album_element)"
   ]
  },
  {
   "cell_type": "code",
   "execution_count": 34,
   "id": "e52132b0-10f6-4c59-8feb-cebc0dab424c",
   "metadata": {},
   "outputs": [],
   "source": [
    "album_df = pd.DataFrame.from_dict(album_list)"
   ]
  },
  {
   "cell_type": "code",
   "execution_count": 35,
   "id": "e8cc9090-c1ec-4cb8-8120-15bd2376ea4b",
   "metadata": {},
   "outputs": [
    {
     "data": {
      "text/html": [
       "<div>\n",
       "<style scoped>\n",
       "    .dataframe tbody tr th:only-of-type {\n",
       "        vertical-align: middle;\n",
       "    }\n",
       "\n",
       "    .dataframe tbody tr th {\n",
       "        vertical-align: top;\n",
       "    }\n",
       "\n",
       "    .dataframe thead th {\n",
       "        text-align: right;\n",
       "    }\n",
       "</style>\n",
       "<table border=\"1\" class=\"dataframe\">\n",
       "  <thead>\n",
       "    <tr style=\"text-align: right;\">\n",
       "      <th></th>\n",
       "      <th>album_id</th>\n",
       "      <th>name</th>\n",
       "      <th>release_date</th>\n",
       "      <th>total_tracks</th>\n",
       "      <th>url</th>\n",
       "    </tr>\n",
       "  </thead>\n",
       "  <tbody>\n",
       "    <tr>\n",
       "      <th>0</th>\n",
       "      <td>06a7H7nusNMvM7yL8m3fy1</td>\n",
       "      <td>AURA</td>\n",
       "      <td>2024-07-12</td>\n",
       "      <td>3</td>\n",
       "      <td>https://open.spotify.com/album/06a7H7nusNMvM7y...</td>\n",
       "    </tr>\n",
       "    <tr>\n",
       "      <th>1</th>\n",
       "      <td>7pv0piZjVlLEIYUXEQKX6x</td>\n",
       "      <td>NO GOING BACK</td>\n",
       "      <td>2023-10-18</td>\n",
       "      <td>8</td>\n",
       "      <td>https://open.spotify.com/album/7pv0piZjVlLEIYU...</td>\n",
       "    </tr>\n",
       "    <tr>\n",
       "      <th>2</th>\n",
       "      <td>4FRxgE6LA2UGJ5yz8diaI9</td>\n",
       "      <td>FUNKED UP</td>\n",
       "      <td>2024-01-19</td>\n",
       "      <td>3</td>\n",
       "      <td>https://open.spotify.com/album/4FRxgE6LA2UGJ5y...</td>\n",
       "    </tr>\n",
       "    <tr>\n",
       "      <th>3</th>\n",
       "      <td>6YLJD87ZAaFBziGObBIcOW</td>\n",
       "      <td>EMPIRE</td>\n",
       "      <td>2024-08-02</td>\n",
       "      <td>3</td>\n",
       "      <td>https://open.spotify.com/album/6YLJD87ZAaFBziG...</td>\n",
       "    </tr>\n",
       "    <tr>\n",
       "      <th>4</th>\n",
       "      <td>4cfBuRZw1az5lIdTYxuOPq</td>\n",
       "      <td>BIBI PHONK BR</td>\n",
       "      <td>2023-08-25</td>\n",
       "      <td>1</td>\n",
       "      <td>https://open.spotify.com/album/4cfBuRZw1az5lId...</td>\n",
       "    </tr>\n",
       "  </tbody>\n",
       "</table>\n",
       "</div>"
      ],
      "text/plain": [
       "                 album_id           name release_date  total_tracks  \\\n",
       "0  06a7H7nusNMvM7yL8m3fy1           AURA   2024-07-12             3   \n",
       "1  7pv0piZjVlLEIYUXEQKX6x  NO GOING BACK   2023-10-18             8   \n",
       "2  4FRxgE6LA2UGJ5yz8diaI9      FUNKED UP   2024-01-19             3   \n",
       "3  6YLJD87ZAaFBziGObBIcOW         EMPIRE   2024-08-02             3   \n",
       "4  4cfBuRZw1az5lIdTYxuOPq  BIBI PHONK BR   2023-08-25             1   \n",
       "\n",
       "                                                 url  \n",
       "0  https://open.spotify.com/album/06a7H7nusNMvM7y...  \n",
       "1  https://open.spotify.com/album/7pv0piZjVlLEIYU...  \n",
       "2  https://open.spotify.com/album/4FRxgE6LA2UGJ5y...  \n",
       "3  https://open.spotify.com/album/6YLJD87ZAaFBziG...  \n",
       "4  https://open.spotify.com/album/4cfBuRZw1az5lId...  "
      ]
     },
     "execution_count": 35,
     "metadata": {},
     "output_type": "execute_result"
    }
   ],
   "source": [
    "album_df.head()"
   ]
  },
  {
   "cell_type": "code",
   "execution_count": 36,
   "id": "614c4684-d2ac-4ed7-8e63-431d764b44a1",
   "metadata": {},
   "outputs": [
    {
     "name": "stdout",
     "output_type": "stream",
     "text": [
      "<class 'pandas.core.frame.DataFrame'>\n",
      "RangeIndex: 70 entries, 0 to 69\n",
      "Data columns (total 5 columns):\n",
      " #   Column        Non-Null Count  Dtype \n",
      "---  ------        --------------  ----- \n",
      " 0   album_id      70 non-null     object\n",
      " 1   name          70 non-null     object\n",
      " 2   release_date  70 non-null     object\n",
      " 3   total_tracks  70 non-null     int64 \n",
      " 4   url           70 non-null     object\n",
      "dtypes: int64(1), object(4)\n",
      "memory usage: 2.9+ KB\n"
     ]
    }
   ],
   "source": [
    "album_df.info()"
   ]
  },
  {
   "cell_type": "code",
   "execution_count": 37,
   "id": "bdbc9ddd-60ae-406e-a678-09dd3d49572b",
   "metadata": {},
   "outputs": [],
   "source": [
    "album_df = album_df.drop_duplicates(subset=['album_id'])"
   ]
  },
  {
   "cell_type": "code",
   "execution_count": 38,
   "id": "d1122e89-5fae-444b-852f-4f7957d4fd09",
   "metadata": {},
   "outputs": [],
   "source": [
    "artist_df = pd.DataFrame.from_dict(artist_list)"
   ]
  },
  {
   "cell_type": "code",
   "execution_count": 39,
   "id": "5ddd98ac-5aa1-4f16-b94e-b165d31afbbc",
   "metadata": {},
   "outputs": [],
   "source": [
    "artist_df = artist_df.drop_duplicates(subset=['artist_id'])"
   ]
  },
  {
   "cell_type": "code",
   "execution_count": 40,
   "id": "161fc0a3-708a-4255-9ffd-b8f61d8d4634",
   "metadata": {},
   "outputs": [],
   "source": [
    "#Song Dataframe\n",
    "song_df = pd.DataFrame.from_dict(song_list)"
   ]
  },
  {
   "cell_type": "code",
   "execution_count": 41,
   "id": "fb0bb21b-470e-4956-990c-9eeae591c18c",
   "metadata": {},
   "outputs": [
    {
     "data": {
      "text/html": [
       "<div>\n",
       "<style scoped>\n",
       "    .dataframe tbody tr th:only-of-type {\n",
       "        vertical-align: middle;\n",
       "    }\n",
       "\n",
       "    .dataframe tbody tr th {\n",
       "        vertical-align: top;\n",
       "    }\n",
       "\n",
       "    .dataframe thead th {\n",
       "        text-align: right;\n",
       "    }\n",
       "</style>\n",
       "<table border=\"1\" class=\"dataframe\">\n",
       "  <thead>\n",
       "    <tr style=\"text-align: right;\">\n",
       "      <th></th>\n",
       "      <th>song_id</th>\n",
       "      <th>song_name</th>\n",
       "      <th>duration_ms</th>\n",
       "      <th>url</th>\n",
       "      <th>popularity</th>\n",
       "      <th>song_added</th>\n",
       "      <th>album_id</th>\n",
       "      <th>artist_id</th>\n",
       "    </tr>\n",
       "  </thead>\n",
       "  <tbody>\n",
       "    <tr>\n",
       "      <th>0</th>\n",
       "      <td>2TNv2GxMpIO8AyPiD7TLxj</td>\n",
       "      <td>AURA</td>\n",
       "      <td>115906</td>\n",
       "      <td>https://open.spotify.com/track/2TNv2GxMpIO8AyP...</td>\n",
       "      <td>73</td>\n",
       "      <td>2025-02-22T12:37:45Z</td>\n",
       "      <td>06a7H7nusNMvM7yL8m3fy1</td>\n",
       "      <td>1Sdc6ySbIvzO0X9vbyHzWm</td>\n",
       "    </tr>\n",
       "    <tr>\n",
       "      <th>1</th>\n",
       "      <td>0rb7HcBkdMPp04ybHBfX41</td>\n",
       "      <td>BAIXO</td>\n",
       "      <td>104013</td>\n",
       "      <td>https://open.spotify.com/track/0rb7HcBkdMPp04y...</td>\n",
       "      <td>64</td>\n",
       "      <td>2024-02-24T05:48:13Z</td>\n",
       "      <td>7pv0piZjVlLEIYUXEQKX6x</td>\n",
       "      <td>4nl0CCx6PpEOOr2Z2ThPdp</td>\n",
       "    </tr>\n",
       "    <tr>\n",
       "      <th>2</th>\n",
       "      <td>4VL5XwfATZuAVTW471Wpro</td>\n",
       "      <td>FUNKED UP - SLOWED</td>\n",
       "      <td>115348</td>\n",
       "      <td>https://open.spotify.com/track/4VL5XwfATZuAVTW...</td>\n",
       "      <td>73</td>\n",
       "      <td>2024-03-21T12:23:58Z</td>\n",
       "      <td>4FRxgE6LA2UGJ5yz8diaI9</td>\n",
       "      <td>4nl0CCx6PpEOOr2Z2ThPdp</td>\n",
       "    </tr>\n",
       "    <tr>\n",
       "      <th>3</th>\n",
       "      <td>3c1rQB4Q5plN80oyUwixG3</td>\n",
       "      <td>EMPIRE - Slowed</td>\n",
       "      <td>115803</td>\n",
       "      <td>https://open.spotify.com/track/3c1rQB4Q5plN80o...</td>\n",
       "      <td>63</td>\n",
       "      <td>2025-01-17T16:12:59Z</td>\n",
       "      <td>6YLJD87ZAaFBziGObBIcOW</td>\n",
       "      <td>1Sdc6ySbIvzO0X9vbyHzWm</td>\n",
       "    </tr>\n",
       "    <tr>\n",
       "      <th>4</th>\n",
       "      <td>1ytfbcVbSMHIgzijgt4z2e</td>\n",
       "      <td>BIBI PHONK BR</td>\n",
       "      <td>119616</td>\n",
       "      <td>https://open.spotify.com/track/1ytfbcVbSMHIgzi...</td>\n",
       "      <td>62</td>\n",
       "      <td>2024-04-03T08:10:28Z</td>\n",
       "      <td>4cfBuRZw1az5lIdTYxuOPq</td>\n",
       "      <td>6R26kGib2ubbZJMh7kKVGV</td>\n",
       "    </tr>\n",
       "  </tbody>\n",
       "</table>\n",
       "</div>"
      ],
      "text/plain": [
       "                  song_id           song_name  duration_ms  \\\n",
       "0  2TNv2GxMpIO8AyPiD7TLxj                AURA       115906   \n",
       "1  0rb7HcBkdMPp04ybHBfX41               BAIXO       104013   \n",
       "2  4VL5XwfATZuAVTW471Wpro  FUNKED UP - SLOWED       115348   \n",
       "3  3c1rQB4Q5plN80oyUwixG3     EMPIRE - Slowed       115803   \n",
       "4  1ytfbcVbSMHIgzijgt4z2e       BIBI PHONK BR       119616   \n",
       "\n",
       "                                                 url  popularity  \\\n",
       "0  https://open.spotify.com/track/2TNv2GxMpIO8AyP...          73   \n",
       "1  https://open.spotify.com/track/0rb7HcBkdMPp04y...          64   \n",
       "2  https://open.spotify.com/track/4VL5XwfATZuAVTW...          73   \n",
       "3  https://open.spotify.com/track/3c1rQB4Q5plN80o...          63   \n",
       "4  https://open.spotify.com/track/1ytfbcVbSMHIgzi...          62   \n",
       "\n",
       "             song_added                album_id               artist_id  \n",
       "0  2025-02-22T12:37:45Z  06a7H7nusNMvM7yL8m3fy1  1Sdc6ySbIvzO0X9vbyHzWm  \n",
       "1  2024-02-24T05:48:13Z  7pv0piZjVlLEIYUXEQKX6x  4nl0CCx6PpEOOr2Z2ThPdp  \n",
       "2  2024-03-21T12:23:58Z  4FRxgE6LA2UGJ5yz8diaI9  4nl0CCx6PpEOOr2Z2ThPdp  \n",
       "3  2025-01-17T16:12:59Z  6YLJD87ZAaFBziGObBIcOW  1Sdc6ySbIvzO0X9vbyHzWm  \n",
       "4  2024-04-03T08:10:28Z  4cfBuRZw1az5lIdTYxuOPq  6R26kGib2ubbZJMh7kKVGV  "
      ]
     },
     "execution_count": 41,
     "metadata": {},
     "output_type": "execute_result"
    }
   ],
   "source": [
    "song_df.head()"
   ]
  },
  {
   "cell_type": "code",
   "execution_count": 42,
   "id": "e8c2c8f6-ea37-44cd-baec-27144b623738",
   "metadata": {},
   "outputs": [
    {
     "data": {
      "text/html": [
       "<div>\n",
       "<style scoped>\n",
       "    .dataframe tbody tr th:only-of-type {\n",
       "        vertical-align: middle;\n",
       "    }\n",
       "\n",
       "    .dataframe tbody tr th {\n",
       "        vertical-align: top;\n",
       "    }\n",
       "\n",
       "    .dataframe thead th {\n",
       "        text-align: right;\n",
       "    }\n",
       "</style>\n",
       "<table border=\"1\" class=\"dataframe\">\n",
       "  <thead>\n",
       "    <tr style=\"text-align: right;\">\n",
       "      <th></th>\n",
       "      <th>artist_id</th>\n",
       "      <th>artist_name</th>\n",
       "      <th>external_url</th>\n",
       "    </tr>\n",
       "  </thead>\n",
       "  <tbody>\n",
       "    <tr>\n",
       "      <th>0</th>\n",
       "      <td>1Sdc6ySbIvzO0X9vbyHzWm</td>\n",
       "      <td>Ogryzek</td>\n",
       "      <td>https://api.spotify.com/v1/artists/1Sdc6ySbIvz...</td>\n",
       "    </tr>\n",
       "    <tr>\n",
       "      <th>1</th>\n",
       "      <td>4nl0CCx6PpEOOr2Z2ThPdp</td>\n",
       "      <td>xxanteria</td>\n",
       "      <td>https://api.spotify.com/v1/artists/4nl0CCx6PpE...</td>\n",
       "    </tr>\n",
       "    <tr>\n",
       "      <th>3</th>\n",
       "      <td>6JjQbtAO09K7qBEW2pdX5s</td>\n",
       "      <td>isq</td>\n",
       "      <td>https://api.spotify.com/v1/artists/6JjQbtAO09K...</td>\n",
       "    </tr>\n",
       "    <tr>\n",
       "      <th>5</th>\n",
       "      <td>6R26kGib2ubbZJMh7kKVGV</td>\n",
       "      <td>Bibi Babydoll</td>\n",
       "      <td>https://api.spotify.com/v1/artists/6R26kGib2ub...</td>\n",
       "    </tr>\n",
       "    <tr>\n",
       "      <th>6</th>\n",
       "      <td>3QMpCp3GHiHXgnX1LldXWe</td>\n",
       "      <td>DJ FKU</td>\n",
       "      <td>https://api.spotify.com/v1/artists/3QMpCp3GHiH...</td>\n",
       "    </tr>\n",
       "  </tbody>\n",
       "</table>\n",
       "</div>"
      ],
      "text/plain": [
       "                artist_id    artist_name  \\\n",
       "0  1Sdc6ySbIvzO0X9vbyHzWm        Ogryzek   \n",
       "1  4nl0CCx6PpEOOr2Z2ThPdp      xxanteria   \n",
       "3  6JjQbtAO09K7qBEW2pdX5s            isq   \n",
       "5  6R26kGib2ubbZJMh7kKVGV  Bibi Babydoll   \n",
       "6  3QMpCp3GHiHXgnX1LldXWe         DJ FKU   \n",
       "\n",
       "                                        external_url  \n",
       "0  https://api.spotify.com/v1/artists/1Sdc6ySbIvz...  \n",
       "1  https://api.spotify.com/v1/artists/4nl0CCx6PpE...  \n",
       "3  https://api.spotify.com/v1/artists/6JjQbtAO09K...  \n",
       "5  https://api.spotify.com/v1/artists/6R26kGib2ub...  \n",
       "6  https://api.spotify.com/v1/artists/3QMpCp3GHiH...  "
      ]
     },
     "execution_count": 42,
     "metadata": {},
     "output_type": "execute_result"
    }
   ],
   "source": [
    "artist_df.head()"
   ]
  },
  {
   "cell_type": "code",
   "execution_count": 43,
   "id": "5c955246-cb8d-49cf-99c9-326044517967",
   "metadata": {},
   "outputs": [
    {
     "data": {
      "text/html": [
       "<div>\n",
       "<style scoped>\n",
       "    .dataframe tbody tr th:only-of-type {\n",
       "        vertical-align: middle;\n",
       "    }\n",
       "\n",
       "    .dataframe tbody tr th {\n",
       "        vertical-align: top;\n",
       "    }\n",
       "\n",
       "    .dataframe thead th {\n",
       "        text-align: right;\n",
       "    }\n",
       "</style>\n",
       "<table border=\"1\" class=\"dataframe\">\n",
       "  <thead>\n",
       "    <tr style=\"text-align: right;\">\n",
       "      <th></th>\n",
       "      <th>album_id</th>\n",
       "      <th>name</th>\n",
       "      <th>release_date</th>\n",
       "      <th>total_tracks</th>\n",
       "      <th>url</th>\n",
       "    </tr>\n",
       "  </thead>\n",
       "  <tbody>\n",
       "    <tr>\n",
       "      <th>0</th>\n",
       "      <td>06a7H7nusNMvM7yL8m3fy1</td>\n",
       "      <td>AURA</td>\n",
       "      <td>2024-07-12</td>\n",
       "      <td>3</td>\n",
       "      <td>https://open.spotify.com/album/06a7H7nusNMvM7y...</td>\n",
       "    </tr>\n",
       "    <tr>\n",
       "      <th>1</th>\n",
       "      <td>7pv0piZjVlLEIYUXEQKX6x</td>\n",
       "      <td>NO GOING BACK</td>\n",
       "      <td>2023-10-18</td>\n",
       "      <td>8</td>\n",
       "      <td>https://open.spotify.com/album/7pv0piZjVlLEIYU...</td>\n",
       "    </tr>\n",
       "    <tr>\n",
       "      <th>2</th>\n",
       "      <td>4FRxgE6LA2UGJ5yz8diaI9</td>\n",
       "      <td>FUNKED UP</td>\n",
       "      <td>2024-01-19</td>\n",
       "      <td>3</td>\n",
       "      <td>https://open.spotify.com/album/4FRxgE6LA2UGJ5y...</td>\n",
       "    </tr>\n",
       "    <tr>\n",
       "      <th>3</th>\n",
       "      <td>6YLJD87ZAaFBziGObBIcOW</td>\n",
       "      <td>EMPIRE</td>\n",
       "      <td>2024-08-02</td>\n",
       "      <td>3</td>\n",
       "      <td>https://open.spotify.com/album/6YLJD87ZAaFBziG...</td>\n",
       "    </tr>\n",
       "    <tr>\n",
       "      <th>4</th>\n",
       "      <td>4cfBuRZw1az5lIdTYxuOPq</td>\n",
       "      <td>BIBI PHONK BR</td>\n",
       "      <td>2023-08-25</td>\n",
       "      <td>1</td>\n",
       "      <td>https://open.spotify.com/album/4cfBuRZw1az5lId...</td>\n",
       "    </tr>\n",
       "  </tbody>\n",
       "</table>\n",
       "</div>"
      ],
      "text/plain": [
       "                 album_id           name release_date  total_tracks  \\\n",
       "0  06a7H7nusNMvM7yL8m3fy1           AURA   2024-07-12             3   \n",
       "1  7pv0piZjVlLEIYUXEQKX6x  NO GOING BACK   2023-10-18             8   \n",
       "2  4FRxgE6LA2UGJ5yz8diaI9      FUNKED UP   2024-01-19             3   \n",
       "3  6YLJD87ZAaFBziGObBIcOW         EMPIRE   2024-08-02             3   \n",
       "4  4cfBuRZw1az5lIdTYxuOPq  BIBI PHONK BR   2023-08-25             1   \n",
       "\n",
       "                                                 url  \n",
       "0  https://open.spotify.com/album/06a7H7nusNMvM7y...  \n",
       "1  https://open.spotify.com/album/7pv0piZjVlLEIYU...  \n",
       "2  https://open.spotify.com/album/4FRxgE6LA2UGJ5y...  \n",
       "3  https://open.spotify.com/album/6YLJD87ZAaFBziG...  \n",
       "4  https://open.spotify.com/album/4cfBuRZw1az5lId...  "
      ]
     },
     "execution_count": 43,
     "metadata": {},
     "output_type": "execute_result"
    }
   ],
   "source": [
    "album_df.head()"
   ]
  },
  {
   "cell_type": "code",
   "execution_count": 44,
   "id": "0fdf4a6a-f1e5-46c9-bdff-b71d410e159a",
   "metadata": {},
   "outputs": [],
   "source": [
    "album_df['release_date'] = pd.to_datetime(album_df['release_date'])"
   ]
  },
  {
   "cell_type": "code",
   "execution_count": 45,
   "id": "c15be822-f6f2-4f17-91e0-bc5722181c56",
   "metadata": {},
   "outputs": [],
   "source": [
    "song_df['song_added'] =  pd.to_datetime(song_df['song_added'])"
   ]
  },
  {
   "cell_type": "code",
   "execution_count": 47,
   "id": "95b4203c-18b0-47da-8e12-e1d3dcf870fe",
   "metadata": {},
   "outputs": [
    {
     "name": "stdout",
     "output_type": "stream",
     "text": [
      "<class 'pandas.core.frame.DataFrame'>\n",
      "RangeIndex: 70 entries, 0 to 69\n",
      "Data columns (total 8 columns):\n",
      " #   Column       Non-Null Count  Dtype              \n",
      "---  ------       --------------  -----              \n",
      " 0   song_id      70 non-null     object             \n",
      " 1   song_name    70 non-null     object             \n",
      " 2   duration_ms  70 non-null     int64              \n",
      " 3   url          70 non-null     object             \n",
      " 4   popularity   70 non-null     int64              \n",
      " 5   song_added   70 non-null     datetime64[ns, UTC]\n",
      " 6   album_id     70 non-null     object             \n",
      " 7   artist_id    70 non-null     object             \n",
      "dtypes: datetime64[ns, UTC](1), int64(2), object(5)\n",
      "memory usage: 4.5+ KB\n"
     ]
    }
   ],
   "source": [
    "song_df.info()"
   ]
  },
  {
   "cell_type": "code",
   "execution_count": null,
   "id": "760ed3b3-08da-4fae-b182-3f2a333984f4",
   "metadata": {},
   "outputs": [],
   "source": []
  }
 ],
 "metadata": {
  "kernelspec": {
   "display_name": "Python 3 (ipykernel)",
   "language": "python",
   "name": "python3"
  },
  "language_info": {
   "codemirror_mode": {
    "name": "ipython",
    "version": 3
   },
   "file_extension": ".py",
   "mimetype": "text/x-python",
   "name": "python",
   "nbconvert_exporter": "python",
   "pygments_lexer": "ipython3",
   "version": "3.10.10"
  }
 },
 "nbformat": 4,
 "nbformat_minor": 5
}
