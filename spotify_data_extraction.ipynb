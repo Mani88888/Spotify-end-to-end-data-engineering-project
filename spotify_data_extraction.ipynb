{
 "cells": [
  {
   "cell_type": "code",
   "execution_count": null,
   "id": "a392c163-af59-460e-bb5a-e1bf6f82b455",
   "metadata": {},
   "outputs": [],
   "source": [
    "import json\n",
    "import os\n",
    "import spotipy\n",
    "from spotipy.oauth2 import SpotifyClientCredentials\n",
    "import boto3\n",
    "from datetime import datetime\n",
    "\n",
    "def lambda_handler(event, context):\n",
    "    \n",
    "    cilent_id = os.environ.get('client_id')\n",
    "    client_secret = os.environ.get('client_secret')\n",
    "    \n",
    "    client_credentials_manager = SpotifyClientCredentials(client_id=cilent_id, client_secret=client_secret)\n",
    "    sp = spotipy.Spotify(client_credentials_manager = client_credentials_manager)\n",
    "    playlists = sp.user_playlists('spotify')\n",
    "    \n",
    "    playlist_link = \"https://open.spotify.com/playlist/6VOedaf3eNWDOVpa9Qdlvg\"\n",
    "    playlist_URI = playlist_link.split(\"/\")[-1]\n",
    "    \n",
    "    spotify_data = sp.playlist_tracks(playlist_URI)   \n",
    "    \n",
    "    cilent = boto3.client('s3')\n",
    "    \n",
    "    filename = \"spotify_raw_\" + str(datetime.now()) + \".json\"\n",
    "    \n",
    "    cilent.put_object(\n",
    "        Bucket=\"spotify-etl-project-manikanta\",\n",
    "        Key=\"raw_data/to_processed/\" + filename,\n",
    "        Body=json.dumps(spotify_data)\n",
    "        )\n",
    "    \n",
    "    "
   ]
  }
 ],
 "metadata": {
  "kernelspec": {
   "display_name": "Python 3 (ipykernel)",
   "language": "python",
   "name": "python3"
  },
  "language_info": {
   "codemirror_mode": {
    "name": "ipython",
    "version": 3
   },
   "file_extension": ".py",
   "mimetype": "text/x-python",
   "name": "python",
   "nbconvert_exporter": "python",
   "pygments_lexer": "ipython3",
   "version": "3.10.10"
  }
 },
 "nbformat": 4,
 "nbformat_minor": 5
}
